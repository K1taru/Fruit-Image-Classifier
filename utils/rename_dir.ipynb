{
 "cells": [
  {
   "cell_type": "code",
   "execution_count": 10,
   "id": "d6f501ff",
   "metadata": {},
   "outputs": [
    {
     "name": "stdout",
     "output_type": "stream",
     "text": [
      "✅ Renamed: Banana 3 ➝ Banana 3_validation\n",
      "✅ Renamed: Banana 4 ➝ Banana 4_validation\n",
      "✅ Renamed: overripe ➝ overripe_validation\n",
      "✅ Renamed: ripe ➝ ripe_validation\n",
      "✅ Renamed: rotten ➝ rotten_validation\n",
      "✅ Renamed: unripe ➝ unripe_validation\n"
     ]
    },
    {
     "name": "stderr",
     "output_type": "stream",
     "text": [
      "<>:6: SyntaxWarning: invalid escape sequence '\\C'\n",
      "<>:15: SyntaxWarning: invalid escape sequence '\\C'\n",
      "<>:6: SyntaxWarning: invalid escape sequence '\\C'\n",
      "<>:15: SyntaxWarning: invalid escape sequence '\\C'\n",
      "C:\\Users\\K1taru\\AppData\\Local\\Temp\\ipykernel_11404\\2995076047.py:6: SyntaxWarning: invalid escape sequence '\\C'\n",
      "  FOLDER_PATH = \"C:\\Code-Workspace\\K1taru\\Git-Repositories\\Fruit-Image-Classifier\\dataset/validation/Banana\"   # ← change this to your target folder path\n",
      "C:\\Users\\K1taru\\AppData\\Local\\Temp\\ipykernel_11404\\2995076047.py:15: SyntaxWarning: invalid escape sequence '\\C'\n",
      "  folder_path = \"C:\\Code-Workspace\\K1taru\\Git-Repositories\\Fruit-Image-Classifier\\dataset/test/Apple\"\n"
     ]
    }
   ],
   "source": [
    "import os\n",
    "\n",
    "# ================================\n",
    "# 🔧 CONFIGURATION (edit here)\n",
    "# ================================\n",
    "FOLDER_PATH = \"C:\\Code-Workspace\\K1taru\\Git-Repositories\\Fruit-Image-Classifier\\dataset/validation/Banana\"   # ← change this to your target folder path\n",
    "SUFFIX = \"_validation\"                # ← change this to the suffix you want to add\n",
    "# ================================\n",
    "\n",
    "def add_suffix_to_subfolders(folder_path: str, suffix: str):\n",
    "    \"\"\"\n",
    "    Adds a suffix to the end of each subfolder inside the given folder path.\n",
    "\n",
    "    Example:\n",
    "        folder_path = \"C:\\Code-Workspace\\K1taru\\Git-Repositories\\Fruit-Image-Classifier\\dataset/test/Apple\"\n",
    "        suffix = \"_test\"\n",
    "        apple_10 -> apple_10_test\n",
    "    \"\"\"\n",
    "    # Check if the folder path exists\n",
    "    if not os.path.exists(folder_path):\n",
    "        print(f\"❌ The folder path '{folder_path}' does not exist.\")\n",
    "        return\n",
    "\n",
    "    # Loop through items inside the folder\n",
    "    for item in os.listdir(folder_path):\n",
    "        item_path = os.path.join(folder_path, item)\n",
    "\n",
    "        # Only process subfolders\n",
    "        if os.path.isdir(item_path):\n",
    "            new_name = item + suffix\n",
    "            new_path = os.path.join(folder_path, new_name)\n",
    "\n",
    "            # Rename folder\n",
    "            try:\n",
    "                os.rename(item_path, new_path)\n",
    "                print(f\"✅ Renamed: {item} ➝ {new_name}\")\n",
    "            except Exception as e:\n",
    "                print(f\"⚠️ Failed to rename {item}: {e}\")\n",
    "\n",
    "if __name__ == \"__main__\":\n",
    "    add_suffix_to_subfolders(FOLDER_PATH, SUFFIX)\n"
   ]
  }
 ],
 "metadata": {
  "kernelspec": {
   "display_name": "Python 3",
   "language": "python",
   "name": "python3"
  },
  "language_info": {
   "codemirror_mode": {
    "name": "ipython",
    "version": 3
   },
   "file_extension": ".py",
   "mimetype": "text/x-python",
   "name": "python",
   "nbconvert_exporter": "python",
   "pygments_lexer": "ipython3",
   "version": "3.13.3"
  }
 },
 "nbformat": 4,
 "nbformat_minor": 5
}
